{
 "cells": [
  {
   "cell_type": "code",
   "execution_count": 1,
   "metadata": {},
   "outputs": [],
   "source": [
    "import pandas as pd\n",
    "import os\n",
    "import numpy as np\n",
    "import matplotlib.pyplot as plt\n",
    "from sklearn.decomposition import PCA\n",
    "from sklearn.preprocessing import StandardScaler\n",
    "from sklearn.svm import SVC\n",
    "from sklearn.model_selection import train_test_split\n",
    "from sklearn.metrics import classification_report, confusion_matrix"
   ]
  },
  {
   "cell_type": "code",
   "execution_count": 2,
   "metadata": {},
   "outputs": [],
   "source": [
    "def read_data(filepath):\n",
    "    df = pd.read_csv(filepath, index_col=0)\n",
    "    return df"
   ]
  },
  {
   "cell_type": "code",
   "execution_count": 3,
   "metadata": {},
   "outputs": [],
   "source": [
    "input_path = os.path.join('..', 'database', 'features', 'temp_features.csv')\n",
    "df = read_data(input_path)\n",
    "\n",
    "if df.index.name == \"emotion\":\n",
    "        df = df.reset_index()"
   ]
  },
  {
   "cell_type": "code",
   "execution_count": 4,
   "metadata": {},
   "outputs": [
    {
     "data": {
      "text/html": [
       "<div>\n",
       "<style scoped>\n",
       "    .dataframe tbody tr th:only-of-type {\n",
       "        vertical-align: middle;\n",
       "    }\n",
       "\n",
       "    .dataframe tbody tr th {\n",
       "        vertical-align: top;\n",
       "    }\n",
       "\n",
       "    .dataframe thead th {\n",
       "        text-align: right;\n",
       "    }\n",
       "</style>\n",
       "<table border=\"1\" class=\"dataframe\">\n",
       "  <thead>\n",
       "    <tr style=\"text-align: right;\">\n",
       "      <th></th>\n",
       "      <th>emotion</th>\n",
       "      <th>echoisms</th>\n",
       "      <th>duplicate_lines</th>\n",
       "      <th>title_in_lyric</th>\n",
       "      <th>verb_present_freq</th>\n",
       "      <th>verb_past_freq</th>\n",
       "      <th>verb_future_freq</th>\n",
       "      <th>count_ADJ</th>\n",
       "      <th>count_PUNCT</th>\n",
       "      <th>sentiment_polarity</th>\n",
       "      <th>sentiment_subjectivity</th>\n",
       "      <th>lyric_vector</th>\n",
       "    </tr>\n",
       "  </thead>\n",
       "  <tbody>\n",
       "    <tr>\n",
       "      <th>0</th>\n",
       "      <td>happy</td>\n",
       "      <td>0.003300</td>\n",
       "      <td>0.0</td>\n",
       "      <td>True</td>\n",
       "      <td>208</td>\n",
       "      <td>0</td>\n",
       "      <td>0</td>\n",
       "      <td>34</td>\n",
       "      <td>0</td>\n",
       "      <td>0.235969</td>\n",
       "      <td>0.619671</td>\n",
       "      <td>[ 1.0822775   1.1765019  -2.4270983  -0.947847...</td>\n",
       "    </tr>\n",
       "    <tr>\n",
       "      <th>1</th>\n",
       "      <td>happy</td>\n",
       "      <td>0.028708</td>\n",
       "      <td>0.0</td>\n",
       "      <td>True</td>\n",
       "      <td>75</td>\n",
       "      <td>0</td>\n",
       "      <td>0</td>\n",
       "      <td>16</td>\n",
       "      <td>0</td>\n",
       "      <td>0.099028</td>\n",
       "      <td>0.627361</td>\n",
       "      <td>[ 3.88446599e-01  3.56290758e-01 -1.76452410e+...</td>\n",
       "    </tr>\n",
       "    <tr>\n",
       "      <th>2</th>\n",
       "      <td>happy</td>\n",
       "      <td>0.057471</td>\n",
       "      <td>0.0</td>\n",
       "      <td>True</td>\n",
       "      <td>44</td>\n",
       "      <td>0</td>\n",
       "      <td>0</td>\n",
       "      <td>43</td>\n",
       "      <td>0</td>\n",
       "      <td>0.003373</td>\n",
       "      <td>0.619841</td>\n",
       "      <td>[ 0.72110164  0.93931514 -1.5830449  -1.036815...</td>\n",
       "    </tr>\n",
       "    <tr>\n",
       "      <th>3</th>\n",
       "      <td>happy</td>\n",
       "      <td>0.000000</td>\n",
       "      <td>0.0</td>\n",
       "      <td>True</td>\n",
       "      <td>131</td>\n",
       "      <td>0</td>\n",
       "      <td>0</td>\n",
       "      <td>4</td>\n",
       "      <td>0</td>\n",
       "      <td>0.354545</td>\n",
       "      <td>0.763636</td>\n",
       "      <td>[-0.12169894  0.92650723 -2.0283105  -0.876711...</td>\n",
       "    </tr>\n",
       "    <tr>\n",
       "      <th>4</th>\n",
       "      <td>happy</td>\n",
       "      <td>0.000000</td>\n",
       "      <td>0.0</td>\n",
       "      <td>True</td>\n",
       "      <td>85</td>\n",
       "      <td>0</td>\n",
       "      <td>0</td>\n",
       "      <td>13</td>\n",
       "      <td>0</td>\n",
       "      <td>-0.348413</td>\n",
       "      <td>0.853770</td>\n",
       "      <td>[-4.27717090e-01  1.11970532e+00 -1.33079767e+...</td>\n",
       "    </tr>\n",
       "  </tbody>\n",
       "</table>\n",
       "</div>"
      ],
      "text/plain": [
       "  emotion  echoisms  duplicate_lines  title_in_lyric  verb_present_freq  \\\n",
       "0   happy  0.003300              0.0            True                208   \n",
       "1   happy  0.028708              0.0            True                 75   \n",
       "2   happy  0.057471              0.0            True                 44   \n",
       "3   happy  0.000000              0.0            True                131   \n",
       "4   happy  0.000000              0.0            True                 85   \n",
       "\n",
       "   verb_past_freq  verb_future_freq  count_ADJ  count_PUNCT  \\\n",
       "0               0                 0         34            0   \n",
       "1               0                 0         16            0   \n",
       "2               0                 0         43            0   \n",
       "3               0                 0          4            0   \n",
       "4               0                 0         13            0   \n",
       "\n",
       "   sentiment_polarity  sentiment_subjectivity  \\\n",
       "0            0.235969                0.619671   \n",
       "1            0.099028                0.627361   \n",
       "2            0.003373                0.619841   \n",
       "3            0.354545                0.763636   \n",
       "4           -0.348413                0.853770   \n",
       "\n",
       "                                        lyric_vector  \n",
       "0  [ 1.0822775   1.1765019  -2.4270983  -0.947847...  \n",
       "1  [ 3.88446599e-01  3.56290758e-01 -1.76452410e+...  \n",
       "2  [ 0.72110164  0.93931514 -1.5830449  -1.036815...  \n",
       "3  [-0.12169894  0.92650723 -2.0283105  -0.876711...  \n",
       "4  [-4.27717090e-01  1.11970532e+00 -1.33079767e+...  "
      ]
     },
     "execution_count": 4,
     "metadata": {},
     "output_type": "execute_result"
    }
   ],
   "source": [
    "df.head()"
   ]
  },
  {
   "cell_type": "code",
   "execution_count": 5,
   "metadata": {},
   "outputs": [
    {
     "data": {
      "text/plain": [
       "(1709, 12)"
      ]
     },
     "execution_count": 5,
     "metadata": {},
     "output_type": "execute_result"
    }
   ],
   "source": [
    "df.shape"
   ]
  },
  {
   "cell_type": "code",
   "execution_count": 6,
   "metadata": {},
   "outputs": [],
   "source": [
    "\n",
    "def clean_features(df):\n",
    "    # Define correct order of features\n",
    "    feature_order = ['echoisms', 'duplicate_lines', 'title_in_lyric', \n",
    "                     'verb_present_freq', 'verb_past_freq', 'verb_future_freq', \n",
    "                     'count_ADJ', 'count_PUNCT', 'sentiment_polarity', \n",
    "                     'sentiment_subjectivity', 'lyric_vector']\n",
    "\n",
    "    # Encoding target variable\n",
    "    target_dict = {'happy': 0, 'angry': 1, 'sad': 2, 'relaxed': 3}\n",
    "\n",
    "    X = []\n",
    "    y = []\n",
    "\n",
    "    for _, row in df.iterrows():\n",
    "        # Encode target variable\n",
    "        emotion = row['emotion']\n",
    "        y.append(target_dict[emotion])    \n",
    "\n",
    "        # Process lyric_vector\n",
    "        vector = row['lyric_vector']\n",
    "        vector = vector.replace('[', '').replace(']', '').replace('\\n', '').replace('   ', ' ')\n",
    "        vector_cleaned = [float(value) for value in vector.split(' ') if value.strip() != '']\n",
    "\n",
    "        # Process additional features in correct order\n",
    "        temp = []\n",
    "        for feature in feature_order[:-1]:  # All features except 'lyric_vector'\n",
    "            ele = row[feature]\n",
    "            if isinstance(ele, str) and ele.lower() == 'true':\n",
    "                temp.append(1)\n",
    "            elif isinstance(ele, str) and ele.lower() == 'false':\n",
    "                temp.append(0)\n",
    "            else:\n",
    "                temp.append(ele)\n",
    "\n",
    "        # Append lyric_vector at the end\n",
    "        temp.extend(vector_cleaned)\n",
    "\n",
    "        # Add to dataset\n",
    "        X.append(temp)  \n",
    "\n",
    "    return np.array(X), np.array(y)\n"
   ]
  },
  {
   "cell_type": "code",
   "execution_count": 7,
   "metadata": {},
   "outputs": [],
   "source": [
    "X, y = clean_features(df)"
   ]
  },
  {
   "cell_type": "code",
   "execution_count": 8,
   "metadata": {},
   "outputs": [
    {
     "data": {
      "text/plain": [
       "((1709, 310), (1709,))"
      ]
     },
     "execution_count": 8,
     "metadata": {},
     "output_type": "execute_result"
    }
   ],
   "source": [
    "X.shape, y.shape"
   ]
  },
  {
   "cell_type": "code",
   "execution_count": 9,
   "metadata": {},
   "outputs": [
    {
     "data": {
      "text/plain": [
       "array([ 3.30033003e-03,  0.00000000e+00,  1.00000000e+00,  2.08000000e+02,\n",
       "        0.00000000e+00,  0.00000000e+00,  3.40000000e+01,  0.00000000e+00,\n",
       "        2.35969388e-01,  6.19671202e-01,  1.08227750e+00,  1.17650190e+00,\n",
       "       -2.42709830e+00, -9.47847960e-01, -6.78810700e-01,  5.05377200e-01,\n",
       "        1.80561630e+00,  1.12549880e+00, -5.81454700e-01,  3.97367200e-02,\n",
       "        1.09381850e+00,  2.80892340e-01, -1.96165590e+00,  1.73667840e+00,\n",
       "        2.04696560e+00, -2.88240080e-01,  6.01309200e-01, -9.64470300e-01,\n",
       "        3.40581860e-01, -1.10746480e+00, -2.56951120e-01,  8.99840950e-01,\n",
       "       -2.32702950e+00, -2.55010870e+00, -3.35341330e-01, -7.95012350e-01,\n",
       "       -2.17594610e-01, -6.19846500e-01, -3.73126700e-02,  6.75054100e-01,\n",
       "        1.00217680e+00, -4.15006500e-01, -4.32919830e-01, -3.46758480e-01,\n",
       "        7.36652500e-01,  1.09081550e+00, -1.28241700e-01,  4.46248260e-01,\n",
       "        1.05354520e+00,  1.51927380e+00, -4.56098940e-01, -1.26833210e+00,\n",
       "        1.22553170e+00,  8.53091400e-02, -5.75187200e-01,  1.03452550e+00,\n",
       "        5.90706900e-01, -1.24203490e+00, -3.19271120e-01,  1.43469630e+00,\n",
       "        1.30510380e+00, -2.84270350e-01,  6.10329870e-01, -1.16855110e+00,\n",
       "       -5.40239930e-01, -5.28107800e-02,  3.77727870e-01,  1.05821790e+00,\n",
       "        1.56354570e+00,  1.52176070e+00,  1.74642840e+00,  7.01199300e-02,\n",
       "       -1.18574920e+00, -2.05869300e+00, -6.12406730e-01,  2.16083270e-01,\n",
       "       -1.47271900e+00, -1.33114300e+00,  5.38983500e-01,  6.16532800e-01,\n",
       "       -8.33613930e-01, -6.38313200e-02,  3.13906640e-01, -1.56494340e+00,\n",
       "       -7.27292600e-02, -5.55612500e-02, -1.12756280e+00,  3.61485700e-01,\n",
       "        5.41430000e-01, -6.20570300e-01, -4.13049070e-01, -1.11402690e-01,\n",
       "        1.69121660e+00, -2.68819060e-01,  4.24009900e-01, -1.69133420e-01,\n",
       "        5.31928100e-01, -4.71311450e-01, -5.22831600e-01, -1.02333680e-01,\n",
       "        1.19435700e+00,  9.05224300e-01,  1.17328070e+00, -2.06640500e+00,\n",
       "        3.95367030e-01, -4.77736500e-01,  1.91678430e-01, -6.90696300e-01,\n",
       "        7.67904160e-01, -1.14148960e+00,  7.65929940e-01,  1.26354190e+00,\n",
       "        1.00438270e+00,  5.87798300e-01, -1.27449520e+00,  1.26708450e+00,\n",
       "       -1.41739850e-01,  1.57982620e-01, -1.81161670e+00,  4.00749200e-02,\n",
       "        1.10862650e-01, -1.29385210e+00, -6.50288500e-01, -1.02513920e+00,\n",
       "       -2.08047390e-01,  2.21054500e+00, -5.80911800e-01, -1.65309550e-01,\n",
       "       -8.99503050e-01, -1.14055380e+00, -1.40830800e+00, -2.15082200e-02,\n",
       "       -2.02154660e+00, -5.28664200e-01, -1.52137120e+00, -9.09681500e-01,\n",
       "        1.92010740e+00, -5.94373170e-01, -1.90848680e-01,  5.34888000e-01,\n",
       "       -8.70783570e-01, -8.20667000e-03, -4.82364860e-01, -5.58069200e-01,\n",
       "        3.32450200e-01,  2.86402850e-01, -1.24457440e+00, -7.08792300e-01,\n",
       "        1.63793770e+00, -2.89370540e-01, -6.34599030e-01,  3.63435120e-01,\n",
       "        1.39667620e+00,  2.92700470e-01, -1.80740340e+00, -7.43052840e-01,\n",
       "       -3.59716600e-02,  4.69597940e-01,  7.32482430e-01,  1.69892600e-01,\n",
       "       -4.13976400e-01,  3.45546200e-01, -1.43573760e-01, -8.10787500e-02,\n",
       "       -7.90150800e-01,  4.53417780e-01,  1.08440000e+00,  4.78026000e-02,\n",
       "       -4.34550700e-01, -6.42602100e-01, -5.15544240e-01, -1.35567810e+00,\n",
       "       -1.03648250e+00,  9.93688000e-02, -3.55068120e-01,  2.71863580e-01,\n",
       "        1.92579030e-01,  1.00547020e-01, -3.60859840e-01, -5.67035100e-01,\n",
       "        6.00577500e-01,  6.63762600e-01,  1.62331660e-01,  1.31560130e+00,\n",
       "        7.57131640e-01, -1.87993220e+00,  8.52682100e-01,  1.27208230e+00,\n",
       "        1.30166950e+00, -2.83241180e-01,  1.01547810e+00,  1.91673500e-01,\n",
       "        2.47368140e+00, -2.05989930e+00, -1.73164620e+00,  6.57194730e-01,\n",
       "        1.43815090e-01, -1.69642540e+00,  4.04304950e-01,  9.08045770e-01,\n",
       "       -1.06502890e+00,  1.18533150e+00, -8.90603070e-01,  2.29845090e-01,\n",
       "       -3.45564250e-01, -2.11729980e+00, -6.26250900e-01,  3.29785320e-01,\n",
       "       -1.00879120e+00,  9.49340460e-01, -4.20048830e-01, -3.29181900e-01,\n",
       "       -1.61316370e+00, -8.60464900e-02, -1.27954730e+00, -1.75939720e-01,\n",
       "        1.37435500e-02, -1.60172990e+00,  4.63494900e-01, -1.34041380e+00,\n",
       "        1.78896750e+00, -3.52072400e-01,  7.29847100e-01,  6.60971160e-01,\n",
       "       -1.16004170e+00,  7.77704360e-01, -3.09272800e-01, -2.68243760e-01,\n",
       "        1.70185070e-01, -3.36009110e-01, -1.00327270e+00, -1.04099080e+00,\n",
       "        6.01192360e-01,  1.29444740e+00,  5.52892860e-01, -6.98591100e-01,\n",
       "       -2.39834400e-01, -4.15514620e-01,  2.19828220e+00,  1.93190260e+00,\n",
       "       -2.04889940e+00, -1.41930690e+00, -5.39972400e-02, -9.78019240e-01,\n",
       "       -4.43754880e-01,  1.15492030e+00,  4.26657800e-01,  1.30849390e+00,\n",
       "        1.67025180e+00,  1.03330670e+00, -9.51182500e-01,  3.68212300e-02,\n",
       "        1.48533730e+00, -6.55958500e-02, -8.70757900e-01,  5.66734000e-02,\n",
       "       -2.10593370e+00, -1.11024140e-01,  1.53160830e+00, -1.17217000e-02,\n",
       "       -7.34295600e-01,  2.80972330e-01, -1.70130610e+00,  1.19523240e-01,\n",
       "       -4.61645700e-02, -2.04657580e+00,  8.75285400e-01,  8.25809540e-01,\n",
       "       -1.01450650e+00,  2.31680040e-01,  7.06839600e-01, -5.34513950e-01,\n",
       "        9.79675230e-01,  3.43023400e-01,  7.52875200e-01,  4.25404520e-01,\n",
       "        5.50492000e-01, -8.42156770e-01, -1.77788640e+00,  1.76436200e-01,\n",
       "        7.24525200e-01, -8.90999560e-01, -1.04793660e+00, -4.48283100e-01,\n",
       "       -7.41713400e-01, -1.42018440e+00,  1.62772200e+00, -1.20622040e+00,\n",
       "       -4.54200900e-01,  1.26142430e+00, -2.09838680e+00, -8.34559300e-02,\n",
       "        3.39847860e-01,  2.02236310e-01,  1.29394150e+00,  1.25864270e+00,\n",
       "        1.86236520e-01,  7.12472600e-01, -2.04655400e+00, -5.89466700e-01,\n",
       "        1.05769380e+00,  5.67092200e-01,  1.90766430e+00, -2.54140000e+00,\n",
       "       -8.13152000e-01, -1.61377000e+00,  6.93605240e-01,  6.09348950e-01,\n",
       "       -2.22727660e+00,  1.29447780e+00])"
      ]
     },
     "execution_count": 9,
     "metadata": {},
     "output_type": "execute_result"
    }
   ],
   "source": [
    "X[0]"
   ]
  },
  {
   "cell_type": "code",
   "execution_count": 10,
   "metadata": {},
   "outputs": [
    {
     "data": {
      "text/html": [
       "<div>\n",
       "<style scoped>\n",
       "    .dataframe tbody tr th:only-of-type {\n",
       "        vertical-align: middle;\n",
       "    }\n",
       "\n",
       "    .dataframe tbody tr th {\n",
       "        vertical-align: top;\n",
       "    }\n",
       "\n",
       "    .dataframe thead th {\n",
       "        text-align: right;\n",
       "    }\n",
       "</style>\n",
       "<table border=\"1\" class=\"dataframe\">\n",
       "  <thead>\n",
       "    <tr style=\"text-align: right;\">\n",
       "      <th></th>\n",
       "      <th>Feature</th>\n",
       "      <th>Variance</th>\n",
       "    </tr>\n",
       "  </thead>\n",
       "  <tbody>\n",
       "    <tr>\n",
       "      <th>3</th>\n",
       "      <td>verb_present_freq</td>\n",
       "      <td>1.728738e+06</td>\n",
       "    </tr>\n",
       "    <tr>\n",
       "      <th>6</th>\n",
       "      <td>count_ADJ</td>\n",
       "      <td>4.935232e+04</td>\n",
       "    </tr>\n",
       "    <tr>\n",
       "      <th>285</th>\n",
       "      <td>lyric_vec_275</td>\n",
       "      <td>1.073141e+00</td>\n",
       "    </tr>\n",
       "    <tr>\n",
       "      <th>290</th>\n",
       "      <td>lyric_vec_280</td>\n",
       "      <td>1.055835e+00</td>\n",
       "    </tr>\n",
       "    <tr>\n",
       "      <th>156</th>\n",
       "      <td>lyric_vec_146</td>\n",
       "      <td>9.936388e-01</td>\n",
       "    </tr>\n",
       "    <tr>\n",
       "      <th>...</th>\n",
       "      <td>...</td>\n",
       "      <td>...</td>\n",
       "    </tr>\n",
       "    <tr>\n",
       "      <th>9</th>\n",
       "      <td>sentiment_subjectivity</td>\n",
       "      <td>2.333935e-02</td>\n",
       "    </tr>\n",
       "    <tr>\n",
       "      <th>0</th>\n",
       "      <td>echoisms</td>\n",
       "      <td>1.083354e-03</td>\n",
       "    </tr>\n",
       "    <tr>\n",
       "      <th>5</th>\n",
       "      <td>verb_future_freq</td>\n",
       "      <td>0.000000e+00</td>\n",
       "    </tr>\n",
       "    <tr>\n",
       "      <th>4</th>\n",
       "      <td>verb_past_freq</td>\n",
       "      <td>0.000000e+00</td>\n",
       "    </tr>\n",
       "    <tr>\n",
       "      <th>1</th>\n",
       "      <td>duplicate_lines</td>\n",
       "      <td>0.000000e+00</td>\n",
       "    </tr>\n",
       "  </tbody>\n",
       "</table>\n",
       "<p>310 rows × 2 columns</p>\n",
       "</div>"
      ],
      "text/plain": [
       "                    Feature      Variance\n",
       "3         verb_present_freq  1.728738e+06\n",
       "6                 count_ADJ  4.935232e+04\n",
       "285           lyric_vec_275  1.073141e+00\n",
       "290           lyric_vec_280  1.055835e+00\n",
       "156           lyric_vec_146  9.936388e-01\n",
       "..                      ...           ...\n",
       "9    sentiment_subjectivity  2.333935e-02\n",
       "0                  echoisms  1.083354e-03\n",
       "5          verb_future_freq  0.000000e+00\n",
       "4            verb_past_freq  0.000000e+00\n",
       "1           duplicate_lines  0.000000e+00\n",
       "\n",
       "[310 rows x 2 columns]"
      ]
     },
     "execution_count": 10,
     "metadata": {},
     "output_type": "execute_result"
    }
   ],
   "source": [
    "# Compute variance for each feature\n",
    "feature_variances = np.var(X, axis=0)\n",
    "\n",
    "# Convert to a DataFrame\n",
    "feature_names = ['echoisms', 'duplicate_lines', 'title_in_lyric', 'verb_present_freq', \n",
    "                 'verb_past_freq', 'verb_future_freq', 'count_ADJ', 'count_PUNCT', \n",
    "                 'sentiment_polarity', 'sentiment_subjectivity'] + [f'lyric_vec_{i}' for i in range(X.shape[1] - 10)]\n",
    "\n",
    "variance_df = pd.DataFrame({'Feature': feature_names, 'Variance': feature_variances})\n",
    "variance_df = variance_df.sort_values(by='Variance', ascending=False)\n",
    "\n",
    "# Display feature variance ranking\n",
    "variance_df.head(310)"
   ]
  },
  {
   "cell_type": "code",
   "execution_count": 11,
   "metadata": {},
   "outputs": [],
   "source": [
    "# Assuming X is your feature matrix\n",
    "scaler = StandardScaler()\n",
    "X_scaled = scaler.fit_transform(X)  # Standardizing the features"
   ]
  },
  {
   "cell_type": "code",
   "execution_count": 12,
   "metadata": {},
   "outputs": [],
   "source": [
    "# Apply PCA\n",
    "pca = PCA()\n",
    "X_pca = pca.fit_transform(X_scaled)"
   ]
  },
  {
   "cell_type": "code",
   "execution_count": 13,
   "metadata": {},
   "outputs": [],
   "source": [
    "# Explained variance ratio\n",
    "explained_variance_ratio = pca.explained_variance_ratio_\n",
    "cumulative_explained_variance = np.cumsum(explained_variance_ratio)"
   ]
  },
  {
   "cell_type": "code",
   "execution_count": 14,
   "metadata": {},
   "outputs": [],
   "source": [
    "# Create a DataFrame for explained variance\n",
    "explained_variance_df = pd.DataFrame({\n",
    "    'Principal Component': [f'PC{i+1}' for i in range(len(explained_variance_ratio))],\n",
    "    'Explained Variance Ratio': explained_variance_ratio,\n",
    "    'Cumulative Explained Variance': cumulative_explained_variance\n",
    "})"
   ]
  },
  {
   "cell_type": "code",
   "execution_count": 15,
   "metadata": {},
   "outputs": [
    {
     "name": "stdout",
     "output_type": "stream",
     "text": [
      "  Principal Component  Explained Variance Ratio  Cumulative Explained Variance\n",
      "0                 PC1                  0.149636                       0.149636\n",
      "1                 PC2                  0.086233                       0.235869\n",
      "2                 PC3                  0.079038                       0.314907\n",
      "3                 PC4                  0.062386                       0.377294\n",
      "4                 PC5                  0.046348                       0.423642\n",
      "5                 PC6                  0.042050                       0.465692\n",
      "6                 PC7                  0.033319                       0.499011\n",
      "7                 PC8                  0.029809                       0.528820\n",
      "8                 PC9                  0.022315                       0.551135\n",
      "9                PC10                  0.020533                       0.571668\n"
     ]
    }
   ],
   "source": [
    "# Display explained variance ranking\n",
    "print(explained_variance_df.head(10))"
   ]
  },
  {
   "cell_type": "code",
   "execution_count": 16,
   "metadata": {},
   "outputs": [],
   "source": [
    "# Display the components contributing to the first few principal components\n",
    "loadings = pd.DataFrame(pca.components_.T, \n",
    "                        columns=[f'PC{i+1}' for i in range(X_pca.shape[1])],\n",
    "                        index=feature_names)"
   ]
  },
  {
   "cell_type": "code",
   "execution_count": 17,
   "metadata": {},
   "outputs": [
    {
     "data": {
      "text/plain": [
       "lyric_vec_175    0.121893\n",
       "lyric_vec_144    0.119558\n",
       "lyric_vec_4      0.116028\n",
       "lyric_vec_204    0.115484\n",
       "lyric_vec_230    0.115096\n",
       "lyric_vec_122    0.114011\n",
       "lyric_vec_275    0.113012\n",
       "lyric_vec_114    0.108620\n",
       "lyric_vec_2      0.107481\n",
       "lyric_vec_183    0.106572\n",
       "Name: PC1, dtype: float64"
      ]
     },
     "execution_count": 17,
     "metadata": {},
     "output_type": "execute_result"
    }
   ],
   "source": [
    "# Display top contributing features for PC1\n",
    "loadings['PC1'].sort_values(ascending=False).head(10)"
   ]
  },
  {
   "cell_type": "code",
   "execution_count": 18,
   "metadata": {},
   "outputs": [
    {
     "data": {
      "image/png": "[encoded data removed]",
      "text/plain": [
       "<Figure size 800x500 with 1 Axes>"
      ]
     },
     "metadata": {},
     "output_type": "display_data"
    }
   ],
   "source": [
    "import matplotlib.pyplot as plt\n",
    "\n",
    "# Plot explained variance\n",
    "plt.figure(figsize=(8, 5))\n",
    "plt.bar(range(1, len(explained_variance_ratio)+1), explained_variance_ratio, alpha=0.7, label='Individual Explained Variance')\n",
    "plt.step(range(1, len(cumulative_explained_variance)+1), cumulative_explained_variance, where='mid', label='Cumulative Explained Variance')\n",
    "plt.xlabel('Principal Component')\n",
    "plt.ylabel('Explained Variance Ratio')\n",
    "plt.title('Explained Variance by Principal Components')\n",
    "plt.legend()\n",
    "plt.show()"
   ]
  },
  {
   "cell_type": "code",
   "execution_count": 19,
   "metadata": {},
   "outputs": [
    {
     "name": "stdout",
     "output_type": "stream",
     "text": [
      "lyric_vec_208    14.623094\n",
      "lyric_vec_1      14.520947\n",
      "lyric_vec_209    14.446073\n",
      "lyric_vec_169    14.424547\n",
      "lyric_vec_227    14.381186\n",
      "lyric_vec_127    14.377815\n",
      "lyric_vec_120    14.368311\n",
      "lyric_vec_94     14.354542\n",
      "lyric_vec_179    14.332459\n",
      "lyric_vec_57     14.317756\n",
      "dtype: float64\n"
     ]
    }
   ],
   "source": [
    "# Compute the sum of absolute loadings for each feature across all PCs\n",
    "overall_feature_importance = loadings.abs().sum(axis=1).sort_values(ascending=False)\n",
    "\n",
    "# Display top 10 most important features overall\n",
    "print(overall_feature_importance.head(10))"
   ]
  },
  {
   "cell_type": "code",
   "execution_count": 20,
   "metadata": {},
   "outputs": [
    {
     "data": {
      "image/png": "[encoded data removed]",
      "text/plain": [
       "<Figure size 800x500 with 1 Axes>"
      ]
     },
     "metadata": {},
     "output_type": "display_data"
    }
   ],
   "source": [
    "# Plot top 10 most important features overall\n",
    "important_features = overall_feature_importance.head(10)\n",
    "\n",
    "important_features.plot(kind='barh', figsize=(8, 5))\n",
    "plt.xlabel('Overall Feature Contribution')\n",
    "plt.ylabel('Features')\n",
    "plt.title('Top 10 Most Important Features in PCA')\n",
    "plt.gca().invert_yaxis()  # Invert y-axis for better visualization\n",
    "plt.show()"
   ]
  },
  {
   "cell_type": "code",
   "execution_count": 21,
   "metadata": {},
   "outputs": [],
   "source": [
    "SEED = 100\n",
    "TARGET_NAMES = ['happy', 'angry', 'sad', 'relaxed']"
   ]
  },
  {
   "cell_type": "code",
   "execution_count": 22,
   "metadata": {},
   "outputs": [
    {
     "data": {
      "text/plain": [
       "array([[ 0.00330033,  0.        ,  1.        , ...,  0.60934895,\n",
       "        -2.2272766 ,  1.2944778 ],\n",
       "       [ 0.02870813,  0.        ,  1.        , ...,  1.04982603,\n",
       "        -2.07687473,  0.3946107 ],\n",
       "       [ 0.05747126,  0.        ,  1.        , ...,  1.5477325 ,\n",
       "        -1.8432378 ,  0.7332434 ],\n",
       "       ...,\n",
       "       [ 0.05747126,  0.        ,  1.        , ...,  1.5477325 ,\n",
       "        -1.8432378 ,  0.7332434 ],\n",
       "       [ 0.        ,  0.        ,  1.        , ..., -0.30250722,\n",
       "        -1.860725  ,  0.72914004],\n",
       "       [ 0.        ,  0.        ,  1.        , ...,  0.23193845,\n",
       "        -1.97152162,  0.55709165]], shape=(1709, 310))"
      ]
     },
     "execution_count": 22,
     "metadata": {},
     "output_type": "execute_result"
    }
   ],
   "source": [
    "X"
   ]
  },
  {
   "cell_type": "code",
   "execution_count": 23,
   "metadata": {},
   "outputs": [
    {
     "data": {
      "text/plain": [
       "array([0, 0, 0, ..., 0, 0, 0], shape=(1709,))"
      ]
     },
     "execution_count": 23,
     "metadata": {},
     "output_type": "execute_result"
    }
   ],
   "source": [
    "y"
   ]
  },
  {
   "cell_type": "code",
   "execution_count": 24,
   "metadata": {},
   "outputs": [],
   "source": [
    "def load_data(filepath, scenario=\"all\"):\n",
    "    df = pd.read_csv(filepath, index_col=0)\n",
    "\n",
    "    if df.index.name == \"emotion\":\n",
    "        df = df.reset_index()\n",
    "\n",
    "    # Clean features using the provided function\n",
    "    X, y = clean_features(df)\n",
    "\n",
    "    # Ensure y is a 1D array of class labels (remove one-hot encoding step)\n",
    "    y = np.array(y).flatten()\n",
    "\n",
    "    # Feature selection based on scenario\n",
    "    if scenario == \"all\":\n",
    "        X_selected = X  # Use all features\n",
    "    elif scenario == \"lyric_embeddings\":\n",
    "        X_selected = X[:, 10:]  # Select only lyric embedding vectors\n",
    "    elif scenario == \"text_features\":\n",
    "        X_selected = X[:, :10]  # Select only text-based features\n",
    "\n",
    "    # Standardize features\n",
    "    scaler = StandardScaler()\n",
    "    X_selected = scaler.fit_transform(X_selected)\n",
    "\n",
    "    # Ensure balanced class representation in train/test split\n",
    "    if len(set(y)) > 1:\n",
    "        X_train, X_test, y_train, y_test = train_test_split(\n",
    "            X_selected, y, test_size=0.3, random_state=SEED, stratify=y\n",
    "        )\n",
    "    else:\n",
    "        X_train, X_test, y_train, y_test = train_test_split(\n",
    "            X_selected, y, test_size=0.3, random_state=SEED\n",
    "        )\n",
    "\n",
    "    return X_train, X_test, y_train, y_test\n"
   ]
  },
  {
   "cell_type": "code",
   "execution_count": 25,
   "metadata": {},
   "outputs": [],
   "source": [
    "# Train and evaluate SVM\n",
    "def train_svm(X_train, y_train, X_test, y_test, scenario):\n",
    "    print(f\"\\nTraining SVM for scenario: {scenario.upper()}\")\n",
    "\n",
    "    # Define SVM model\n",
    "    svm_clf = SVC(kernel=\"rbf\", gamma=0.3, C=220)\n",
    "\n",
    "    # Train SVM\n",
    "    svm_clf.fit(X_train, y_train)\n",
    "\n",
    "    # Predict\n",
    "    y_pred = svm_clf.predict(X_test)\n",
    "\n",
    "    # Adjust target names dynamically to match present classes\n",
    "    unique_classes = np.unique(y_test)\n",
    "    filtered_target_names = [TARGET_NAMES[i] for i in unique_classes]\n",
    "\n",
    "    # Print classification report\n",
    "    print(\"\\nClassification Report:\")\n",
    "    print(classification_report(y_test, y_pred, target_names=filtered_target_names, digits=3))\n",
    "\n",
    "    # Confusion matrix\n",
    "    cm = confusion_matrix(y_test, y_pred)\n",
    "    print(\"\\nConfusion Matrix:\")\n",
    "    print(cm)"
   ]
  },
  {
   "cell_type": "code",
   "execution_count": 26,
   "metadata": {},
   "outputs": [
    {
     "name": "stdout",
     "output_type": "stream",
     "text": [
      "Shape of y before processing: (1709,)\n",
      "\n",
      "Training SVM for scenario: ALL\n",
      "\n",
      "Classification Report:\n",
      "              precision    recall  f1-score   support\n",
      "\n",
      "       happy      1.000     0.730     0.844       122\n",
      "       angry      0.507     1.000     0.673       140\n",
      "         sad      1.000     0.651     0.788       126\n",
      "     relaxed      1.000     0.528     0.691       125\n",
      "\n",
      "    accuracy                          0.735       513\n",
      "   macro avg      0.877     0.727     0.749       513\n",
      "weighted avg      0.866     0.735     0.746       513\n",
      "\n",
      "\n",
      "Confusion Matrix:\n",
      "[[ 89  33   0   0]\n",
      " [  0 140   0   0]\n",
      " [  0  44  82   0]\n",
      " [  0  59   0  66]]\n",
      "Shape of y before processing: (1709,)\n",
      "\n",
      "Training SVM for scenario: LYRIC_EMBEDDINGS\n",
      "\n",
      "Classification Report:\n",
      "              precision    recall  f1-score   support\n",
      "\n",
      "       happy      1.000     0.730     0.844       122\n",
      "       angry      0.507     1.000     0.673       140\n",
      "         sad      1.000     0.651     0.788       126\n",
      "     relaxed      1.000     0.528     0.691       125\n",
      "\n",
      "    accuracy                          0.735       513\n",
      "   macro avg      0.877     0.727     0.749       513\n",
      "weighted avg      0.866     0.735     0.746       513\n",
      "\n",
      "\n",
      "Confusion Matrix:\n",
      "[[ 89  33   0   0]\n",
      " [  0 140   0   0]\n",
      " [  0  44  82   0]\n",
      " [  0  59   0  66]]\n",
      "Shape of y before processing: (1709,)\n",
      "\n",
      "Training SVM for scenario: TEXT_FEATURES\n",
      "\n",
      "Classification Report:\n",
      "              precision    recall  f1-score   support\n",
      "\n",
      "       happy      0.602     0.459     0.521       122\n",
      "       angry      0.511     0.500     0.505       140\n",
      "         sad      0.417     0.460     0.438       126\n",
      "     relaxed      0.417     0.480     0.446       125\n",
      "\n",
      "    accuracy                          0.476       513\n",
      "   macro avg      0.487     0.475     0.478       513\n",
      "weighted avg      0.487     0.476     0.478       513\n",
      "\n",
      "\n",
      "Confusion Matrix:\n",
      "[[56 22 19 25]\n",
      " [10 70 32 28]\n",
      " [11 26 58 31]\n",
      " [16 19 30 60]]\n"
     ]
    }
   ],
   "source": [
    "# Run training for different feature scenarios\n",
    "input_path = os.path.join('..', 'database', 'features', 'lyric_features.csv')\n",
    "\n",
    "for scenario in [\"all\", \"lyric_embeddings\", \"text_features\"]:\n",
    "    X_train, X_test, y_train, y_test = load_data(input_path, scenario)\n",
    "    train_svm(X_train, y_train, X_test, y_test, scenario)"
   ]
  },
  {
   "cell_type": "code",
   "execution_count": null,
   "metadata": {},
   "outputs": [],
   "source": []
  }
 ],
 "metadata": {
  "kernelspec": {
   "display_name": "venv",
   "language": "python",
   "name": "python3"
  },
  "language_info": {
   "codemirror_mode": {
    "name": "ipython",
    "version": 3
   },
   "file_extension": ".py",
   "mimetype": "text/x-python",
   "name": "python",
   "nbconvert_exporter": "python",
   "pygments_lexer": "ipython3",
   "version": "3.13.1"
  }
 },
 "nbformat": 4,
 "nbformat_minor": 2
}
