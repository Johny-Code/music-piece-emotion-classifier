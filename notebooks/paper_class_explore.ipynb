{
 "cells": [
  {
   "cell_type": "code",
   "execution_count": 2,
   "metadata": {},
   "outputs": [],
   "source": [
    "import sys\n",
    "sys.path.append('../tools')\n",
    "\n",
    "import os\n",
    "\n",
    "from extract_features_from_lyric import load_full_lyric_dataset"
   ]
  },
  {
   "cell_type": "code",
   "execution_count": 6,
   "metadata": {},
   "outputs": [
    {
     "name": "stdout",
     "output_type": "stream",
     "text": [
      "Detected lang = so\n",
      "Detected lang = it\n",
      "Song ML1056 is duplicated. \n",
      "For ..\\..\\database\\lyrics\\ML1068.json there is no language info in dataset\n",
      "Detected lang = en\n",
      "For ..\\..\\database\\lyrics\\ML1098.json there is no language info in dataset\n",
      "Detected lang = en\n",
      "Detected lang = en\n",
      "For ..\\..\\database\\lyrics\\ML1159.json lyric is empty\n",
      "For ..\\..\\database\\lyrics\\ML1159.json there is no language info in dataset\n",
      "No features in text.\n",
      "Detected lang = None\n",
      "For ..\\..\\database\\lyrics\\ML1159.json is instrumental\n",
      "\n",
      "For ..\\..\\database\\lyrics\\ML1230.json lyric is empty\n",
      "For ..\\..\\database\\lyrics\\ML1230.json there is no language info in dataset\n",
      "No features in text.\n",
      "Detected lang = None\n",
      "For ..\\..\\database\\lyrics\\ML1230.json is instrumental\n",
      "\n",
      "For ..\\..\\database\\lyrics\\ML1291.json there is no language info in dataset\n",
      "Detected lang = en\n",
      "For ..\\..\\database\\lyrics\\ML1333.json there is no language info in dataset\n",
      "Detected lang = de\n",
      "For ..\\..\\database\\lyrics\\ML1336.json lyric is empty\n",
      "For ..\\..\\database\\lyrics\\ML1336.json there is no language info in dataset\n",
      "No features in text.\n",
      "Detected lang = None\n",
      "For ..\\..\\database\\lyrics\\ML1336.json is instrumental\n",
      "\n",
      "For ..\\..\\database\\lyrics\\ML1349.json lyric is empty\n",
      "For ..\\..\\database\\lyrics\\ML1349.json there is no language info in dataset\n",
      "No features in text.\n",
      "Detected lang = None\n",
      "For ..\\..\\database\\lyrics\\ML1349.json is instrumental\n",
      "\n",
      "For ..\\..\\database\\lyrics\\ML136.json there is no language info in dataset\n",
      "Detected lang = cs\n",
      "For ..\\..\\database\\lyrics\\ML137.json there is no language info in dataset\n",
      "Detected lang = en\n",
      "For ..\\..\\database\\lyrics\\ML1434.json there is no language info in dataset\n",
      "Detected lang = en\n",
      "For ..\\..\\database\\lyrics\\ML1561.json there is no language info in dataset\n",
      "Detected lang = en\n",
      "For ..\\..\\database\\lyrics\\ML1637.json there is no language info in dataset\n",
      "Detected lang = en\n",
      "Song ML1697 is duplicated. \n",
      "For ..\\..\\database\\lyrics\\ML1719.json there is no language info in dataset\n",
      "Detected lang = en\n",
      "For ..\\..\\database\\lyrics\\ML1765.json there is no language info in dataset\n",
      "Detected lang = en\n",
      "For ..\\..\\database\\lyrics\\ML1774.json there is no language info in dataset\n",
      "Detected lang = en\n",
      "Song ML1816 is duplicated. \n",
      "Detected lang = pt\n",
      "Song ML186 is duplicated. \n",
      "For ..\\..\\database\\lyrics\\ML1864.json there is no language info in dataset\n",
      "Detected lang = en\n",
      "For ..\\..\\database\\lyrics\\ML1869.json there is no language info in dataset\n",
      "Detected lang = en\n",
      "For ..\\..\\database\\lyrics\\ML1894.json there is no language info in dataset\n",
      "Detected lang = en\n",
      "For ..\\..\\database\\lyrics\\ML1911.json there is no language info in dataset\n",
      "Detected lang = en\n",
      "For ..\\..\\database\\lyrics\\ML1918.json there is no language info in dataset\n",
      "Detected lang = en\n",
      "For ..\\..\\database\\lyrics\\ML1941.json there is no language info in dataset\n",
      "Detected lang = en\n",
      "Song ML1945 is duplicated. \n",
      "For ..\\..\\database\\lyrics\\ML1948.json there is no language info in dataset\n",
      "Detected lang = en\n",
      "For ..\\..\\database\\lyrics\\ML1953.json there is no language info in dataset\n",
      "Detected lang = de\n",
      "Song ML1957 is duplicated. \n",
      "For ..\\..\\database\\lyrics\\ML1960.json there is no language info in dataset\n",
      "Detected lang = en\n",
      "For ..\\..\\database\\lyrics\\ML259.json there is no language info in dataset\n",
      "Detected lang = en\n",
      "Song ML291 is duplicated. \n",
      "For ..\\..\\database\\lyrics\\ML299.json there is no language info in dataset\n",
      "Detected lang = en\n",
      "Detected lang = so\n",
      "Song ML312 is duplicated. \n",
      "Detected lang = it\n",
      "For ..\\..\\database\\lyrics\\ML379.json lyric is empty\n",
      "For ..\\..\\database\\lyrics\\ML379.json there is no language info in dataset\n",
      "No features in text.\n",
      "Detected lang = None\n",
      "For ..\\..\\database\\lyrics\\ML379.json is instrumental\n",
      "\n",
      "Detected lang = so\n",
      "For ..\\..\\database\\lyrics\\ML417.json there is no language info in dataset\n",
      "Detected lang = en\n",
      "For ..\\..\\database\\lyrics\\ML497.json there is no language info in dataset\n",
      "Detected lang = en\n",
      "For ..\\..\\database\\lyrics\\ML589.json there is no language info in dataset\n",
      "Detected lang = en\n",
      "For ..\\..\\database\\lyrics\\ML595.json there is no language info in dataset\n",
      "Detected lang = en\n",
      "Song ML613 is duplicated. \n",
      "Detected lang = en\n",
      "Song ML629 is duplicated. \n",
      "For ..\\..\\database\\lyrics\\ML687.json there is no language info in dataset\n",
      "Detected lang = en\n",
      "Detected lang = sw\n",
      "For ..\\..\\database\\lyrics\\ML792.json there is no language info in dataset\n",
      "Detected lang = en\n",
      "For ..\\..\\database\\lyrics\\ML999.json there is no language info in dataset\n",
      "Detected lang = en\n"
     ]
    }
   ],
   "source": [
    "dataset_path = os.path.join('..', '..', 'database', 'lyrics')\n",
    "database_path = os.path.join('..', 'database', 'MoodyLyrics4Q_cleaned_split.csv')\n",
    "\n",
    "dataset = load_full_lyric_dataset(dataset_path, database_path)"
   ]
  },
  {
   "cell_type": "code",
   "execution_count": 7,
   "metadata": {},
   "outputs": [
    {
     "data": {
      "text/plain": [
       "pandas.core.frame.DataFrame"
      ]
     },
     "execution_count": 7,
     "metadata": {},
     "output_type": "execute_result"
    }
   ],
   "source": [
    "type(dataset)"
   ]
  },
  {
   "cell_type": "code",
   "execution_count": 8,
   "metadata": {},
   "outputs": [
    {
     "data": {
      "text/html": [
       "<div>\n",
       "<style scoped>\n",
       "    .dataframe tbody tr th:only-of-type {\n",
       "        vertical-align: middle;\n",
       "    }\n",
       "\n",
       "    .dataframe tbody tr th {\n",
       "        vertical-align: top;\n",
       "    }\n",
       "\n",
       "    .dataframe thead th {\n",
       "        text-align: right;\n",
       "    }\n",
       "</style>\n",
       "<table border=\"1\" class=\"dataframe\">\n",
       "  <thead>\n",
       "    <tr style=\"text-align: right;\">\n",
       "      <th></th>\n",
       "      <th>mood</th>\n",
       "      <th>title</th>\n",
       "      <th>lyric</th>\n",
       "      <th>language</th>\n",
       "      <th>instrumental</th>\n",
       "      <th>split</th>\n",
       "    </tr>\n",
       "  </thead>\n",
       "  <tbody>\n",
       "    <tr>\n",
       "      <th>ML1</th>\n",
       "      <td>happy</td>\n",
       "      <td>I Want Your Sex</td>\n",
       "      <td>I Want Your Sex Lyrics[From a PSA recorded for...</td>\n",
       "      <td>en</td>\n",
       "      <td>False</td>\n",
       "      <td>train</td>\n",
       "    </tr>\n",
       "    <tr>\n",
       "      <th>ML10</th>\n",
       "      <td>happy</td>\n",
       "      <td>Heart of Glass</td>\n",
       "      <td>Heart of Glass Lyrics[Verse 1]\\nOnce I had a l...</td>\n",
       "      <td>en</td>\n",
       "      <td>False</td>\n",
       "      <td>train</td>\n",
       "    </tr>\n",
       "    <tr>\n",
       "      <th>ML100</th>\n",
       "      <td>happy</td>\n",
       "      <td>Crazy Little Thing Called Love</td>\n",
       "      <td>Crazy Little Thing Called Love Lyrics[Intro]\\n...</td>\n",
       "      <td>en</td>\n",
       "      <td>False</td>\n",
       "      <td>train</td>\n",
       "    </tr>\n",
       "    <tr>\n",
       "      <th>ML1000</th>\n",
       "      <td>happy</td>\n",
       "      <td>Almost</td>\n",
       "      <td>Almost Lyrics[Verse 1]\\nI almost got drunk at ...</td>\n",
       "      <td>en</td>\n",
       "      <td>False</td>\n",
       "      <td>train</td>\n",
       "    </tr>\n",
       "    <tr>\n",
       "      <th>ML1001</th>\n",
       "      <td>happy</td>\n",
       "      <td>Glow</td>\n",
       "      <td>Glow Lyrics[Verse 1]\\nI never thought that you...</td>\n",
       "      <td>en</td>\n",
       "      <td>False</td>\n",
       "      <td>train</td>\n",
       "    </tr>\n",
       "  </tbody>\n",
       "</table>\n",
       "</div>"
      ],
      "text/plain": [
       "         mood                           title  \\\n",
       "ML1     happy                 I Want Your Sex   \n",
       "ML10    happy                  Heart of Glass   \n",
       "ML100   happy  Crazy Little Thing Called Love   \n",
       "ML1000  happy                          Almost   \n",
       "ML1001  happy                            Glow   \n",
       "\n",
       "                                                    lyric language  \\\n",
       "ML1     I Want Your Sex Lyrics[From a PSA recorded for...       en   \n",
       "ML10    Heart of Glass Lyrics[Verse 1]\\nOnce I had a l...       en   \n",
       "ML100   Crazy Little Thing Called Love Lyrics[Intro]\\n...       en   \n",
       "ML1000  Almost Lyrics[Verse 1]\\nI almost got drunk at ...       en   \n",
       "ML1001  Glow Lyrics[Verse 1]\\nI never thought that you...       en   \n",
       "\n",
       "        instrumental  split  \n",
       "ML1            False  train  \n",
       "ML10           False  train  \n",
       "ML100          False  train  \n",
       "ML1000         False  train  \n",
       "ML1001         False  train  "
      ]
     },
     "execution_count": 8,
     "metadata": {},
     "output_type": "execute_result"
    }
   ],
   "source": [
    "dataset.head()"
   ]
  },
  {
   "cell_type": "code",
   "execution_count": 24,
   "metadata": {},
   "outputs": [
    {
     "data": {
      "text/plain": [
       "mood            1990\n",
       "title           1990\n",
       "lyric           1990\n",
       "language        1985\n",
       "instrumental    1990\n",
       "split           1990\n",
       "dtype: int64"
      ]
     },
     "execution_count": 24,
     "metadata": {},
     "output_type": "execute_result"
    }
   ],
   "source": [
    "dataset.count()"
   ]
  },
  {
   "cell_type": "code",
   "execution_count": 32,
   "metadata": {},
   "outputs": [
    {
     "data": {
      "text/plain": [
       "language\n",
       "en    1883\n",
       "de      22\n",
       "pt      16\n",
       "es      15\n",
       "fr      13\n",
       "fi       6\n",
       "it       4\n",
       "sv       4\n",
       "ja       4\n",
       "pl       4\n",
       "so       3\n",
       "ga       3\n",
       "no       2\n",
       "sw       1\n",
       "cs       1\n",
       "ro       1\n",
       "id       1\n",
       "gd       1\n",
       "tr       1\n",
       "dtype: int64"
      ]
     },
     "execution_count": 32,
     "metadata": {},
     "output_type": "execute_result"
    }
   ],
   "source": [
    "dataset.value_counts('language')"
   ]
  },
  {
   "cell_type": "code",
   "execution_count": 28,
   "metadata": {},
   "outputs": [
    {
     "data": {
      "text/html": [
       "<div>\n",
       "<style scoped>\n",
       "    .dataframe tbody tr th:only-of-type {\n",
       "        vertical-align: middle;\n",
       "    }\n",
       "\n",
       "    .dataframe tbody tr th {\n",
       "        vertical-align: top;\n",
       "    }\n",
       "\n",
       "    .dataframe thead th {\n",
       "        text-align: right;\n",
       "    }\n",
       "</style>\n",
       "<table border=\"1\" class=\"dataframe\">\n",
       "  <thead>\n",
       "    <tr style=\"text-align: right;\">\n",
       "      <th></th>\n",
       "      <th>mood</th>\n",
       "      <th>title</th>\n",
       "      <th>lyric</th>\n",
       "      <th>language</th>\n",
       "      <th>instrumental</th>\n",
       "      <th>split</th>\n",
       "    </tr>\n",
       "  </thead>\n",
       "  <tbody>\n",
       "  </tbody>\n",
       "</table>\n",
       "</div>"
      ],
      "text/plain": [
       "Empty DataFrame\n",
       "Columns: [mood, title, lyric, language, instrumental, split]\n",
       "Index: []"
      ]
     },
     "execution_count": 28,
     "metadata": {},
     "output_type": "execute_result"
    }
   ],
   "source": [
    "dataset[dataset['language'] == None]"
   ]
  },
  {
   "cell_type": "code",
   "execution_count": 12,
   "metadata": {},
   "outputs": [],
   "source": [
    "#count train val, test in dataset for each mood\n",
    "\n",
    "happy = dataset[dataset['mood'] == 'happy']\n",
    "sad = dataset[dataset['mood'] == 'sad']\n",
    "angry = dataset[dataset['mood'] == 'angry']\n",
    "relaxed = dataset[dataset['mood'] == 'relaxed']\n"
   ]
  },
  {
   "cell_type": "code",
   "execution_count": null,
   "metadata": {},
   "outputs": [],
   "source": []
  },
  {
   "cell_type": "code",
   "execution_count": 13,
   "metadata": {},
   "outputs": [
    {
     "data": {
      "text/plain": [
       "split\n",
       "train    350\n",
       "test      75\n",
       "val       75\n",
       "dtype: int64"
      ]
     },
     "execution_count": 13,
     "metadata": {},
     "output_type": "execute_result"
    }
   ],
   "source": [
    "happy.value_counts('split')"
   ]
  },
  {
   "cell_type": "code",
   "execution_count": 14,
   "metadata": {},
   "outputs": [
    {
     "data": {
      "text/plain": [
       "split\n",
       "train    348\n",
       "val       75\n",
       "test      74\n",
       "dtype: int64"
      ]
     },
     "execution_count": 14,
     "metadata": {},
     "output_type": "execute_result"
    }
   ],
   "source": [
    "sad.value_counts('split')"
   ]
  },
  {
   "cell_type": "code",
   "execution_count": 16,
   "metadata": {},
   "outputs": [
    {
     "data": {
      "text/plain": [
       "split\n",
       "train    348\n",
       "val       75\n",
       "test      74\n",
       "dtype: int64"
      ]
     },
     "execution_count": 16,
     "metadata": {},
     "output_type": "execute_result"
    }
   ],
   "source": [
    "angry.value_counts('split')"
   ]
  },
  {
   "cell_type": "code",
   "execution_count": 17,
   "metadata": {},
   "outputs": [
    {
     "data": {
      "text/plain": [
       "split\n",
       "train    347\n",
       "test      75\n",
       "val       74\n",
       "dtype: int64"
      ]
     },
     "execution_count": 17,
     "metadata": {},
     "output_type": "execute_result"
    }
   ],
   "source": [
    "relaxed.value_counts('split')"
   ]
  },
  {
   "cell_type": "code",
   "execution_count": 19,
   "metadata": {},
   "outputs": [],
   "source": [
    "en_dataset = dataset[dataset['language'] == 'en']\n",
    "\n",
    "en_happy = en_dataset[en_dataset['mood'] == 'happy']\n",
    "en_sad = en_dataset[en_dataset['mood'] == 'sad']\n",
    "en_angry = en_dataset[en_dataset['mood'] == 'angry']\n",
    "en_relaxed = en_dataset[en_dataset['mood'] == 'relaxed']"
   ]
  },
  {
   "cell_type": "code",
   "execution_count": 20,
   "metadata": {},
   "outputs": [
    {
     "data": {
      "text/plain": [
       "split\n",
       "train    331\n",
       "test      72\n",
       "val       68\n",
       "dtype: int64"
      ]
     },
     "execution_count": 20,
     "metadata": {},
     "output_type": "execute_result"
    }
   ],
   "source": [
    "en_happy.value_counts('split')"
   ]
  },
  {
   "cell_type": "code",
   "execution_count": 21,
   "metadata": {},
   "outputs": [
    {
     "data": {
      "text/plain": [
       "split\n",
       "train    327\n",
       "test      70\n",
       "val       65\n",
       "dtype: int64"
      ]
     },
     "execution_count": 21,
     "metadata": {},
     "output_type": "execute_result"
    }
   ],
   "source": [
    "en_sad.value_counts('split')"
   ]
  },
  {
   "cell_type": "code",
   "execution_count": 22,
   "metadata": {},
   "outputs": [
    {
     "data": {
      "text/plain": [
       "split\n",
       "train    344\n",
       "test      74\n",
       "val       73\n",
       "dtype: int64"
      ]
     },
     "execution_count": 22,
     "metadata": {},
     "output_type": "execute_result"
    }
   ],
   "source": [
    "en_angry.value_counts('split')"
   ]
  },
  {
   "cell_type": "code",
   "execution_count": 23,
   "metadata": {},
   "outputs": [
    {
     "data": {
      "text/plain": [
       "split\n",
       "train    325\n",
       "test      67\n",
       "val       67\n",
       "dtype: int64"
      ]
     },
     "execution_count": 23,
     "metadata": {},
     "output_type": "execute_result"
    }
   ],
   "source": [
    "en_relaxed.value_counts('split')"
   ]
  },
  {
   "cell_type": "code",
   "execution_count": null,
   "metadata": {},
   "outputs": [],
   "source": []
  }
 ],
 "metadata": {
  "kernelspec": {
   "display_name": "emotions",
   "language": "python",
   "name": "python3"
  },
  "language_info": {
   "codemirror_mode": {
    "name": "ipython",
    "version": 3
   },
   "file_extension": ".py",
   "mimetype": "text/x-python",
   "name": "python",
   "nbconvert_exporter": "python",
   "pygments_lexer": "ipython3",
   "version": "3.9.16"
  }
 },
 "nbformat": 4,
 "nbformat_minor": 2
}
