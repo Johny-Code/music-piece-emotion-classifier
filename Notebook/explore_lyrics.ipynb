{
 "cells": [
  {
   "attachments": {},
   "cell_type": "markdown",
   "metadata": {},
   "source": [
    "Cont how many lyrics downloaded"
   ]
  },
  {
   "cell_type": "code",
   "execution_count": 2,
   "metadata": {},
   "outputs": [
    {
     "name": "stdout",
     "output_type": "stream",
     "text": [
      "2000\n"
     ]
    }
   ],
   "source": [
    "%%bash\n",
    "ls -1 ../database/lyrics | wc -l"
   ]
  },
  {
   "cell_type": "code",
   "execution_count": 58,
   "metadata": {},
   "outputs": [
    {
     "name": "stdout",
     "output_type": "stream",
     "text": [
      "For ..\\database\\lyrics\\ML1159_Yanni_Nostalgia.json\n",
      "this song is maualy downloaded\n",
      "For ..\\database\\lyrics\\ML1230_Nightmares On Wax_Flip Ya Lid.json\n",
      "this song is maualy downloaded\n",
      "For ..\\database\\lyrics\\ML1336_Kool - The Gang_Summer Madness.json\n",
      "this song is maualy downloaded\n",
      "For ..\\database\\lyrics\\ML1349_Miles Davis_Summertime.json\n",
      "this song is maualy downloaded\n",
      "For ..\\database\\lyrics\\ML136_Jaromír Nohavica_Ještě mi scházíš.json\n",
      "this song is maualy downloaded\n",
      "For ..\\database\\lyrics\\ML1948_Cocteau Twins_Squeeze-Wax.json\n",
      "this song is maualy downloaded\n",
      "For ..\\database\\lyrics\\ML379_Eric Clapton_Reptile.json\n",
      "this song is maualy downloaded\n"
     ]
    }
   ],
   "source": [
    "import os\n",
    "import json\n",
    "\n",
    "input_path = os.path.join('..', 'database', 'lyrics')\n",
    "lyric_files = [os.path.join(input_path, pos_json) for pos_json in os.listdir(input_path) if pos_json.endswith('.json')]\n",
    "\n",
    "for file in lyric_files:\n",
    "    with open(file) as f:\n",
    "        song_info = json.load(f)\n",
    "        try:\n",
    "            lyric = song_info['song']['lyrics']\n",
    "        except:\n",
    "            print(f\"For {file}, lyric is empty\")\n",
    "        \n",
    "        try:\n",
    "            lyric = song_info['song']['url']\n",
    "        except:\n",
    "            print(f\"For {file}, url is empty\")\n",
    "        \n",
    "        try:\n",
    "            type = song_info['song']['artist']\n",
    "        except:\n",
    "            print(f\"For {file}\")\n",
    "            print('this song is maualy downloaded')"
   ]
  },
  {
   "cell_type": "code",
   "execution_count": 4,
   "metadata": {},
   "outputs": [],
   "source": [
    "from download_songs import read_config\n",
    "from download_lyrics import authorize_genius, download_lyric\n",
    "config = read_config(os.path.join('..', 'config', 'genius_secrets.json'))\n",
    "\n",
    "genius = authorize_genius(config)\n",
    "\n",
    "title = 'Insomnia'\n",
    "artist = 'Tyler Hilton'\n",
    "file = '..\\database\\lyrics\\ML606_Tyler Hilton_Insomnia -Revised Album Version-.json'\n",
    "\n",
    "downloaded_song, status_code = download_lyric(genius, title, artist)\n",
    "song_info = downloaded_song.to_dict()\n",
    "\n",
    "print(song_info)\n",
    "\n",
    "with open(file) as f:\n",
    "        song = json.load(f)\n",
    "        f.close()\n",
    "\n",
    "song['song'] = song_info\n",
    "\n",
    "with open(file, 'w') as f:\n",
    "        f.write(json.dumps(song, indent=4))\n",
    "        f.close()"
   ]
  },
  {
   "cell_type": "code",
   "execution_count": 55,
   "metadata": {},
   "outputs": [],
   "source": []
  },
  {
   "cell_type": "code",
   "execution_count": 56,
   "metadata": {},
   "outputs": [
    {
     "name": "stdout",
     "output_type": "stream",
     "text": [
      "Searching for \"Insomnia\" by Tyler Hilton...\n",
      "Done.\n",
      "{'_type': 'song', 'annotation_count': 1, 'api_path': '/songs/1536175', 'artist_names': 'Tyler Hilton', 'full_title': 'Insomnia by\\xa0Tyler\\xa0Hilton', 'header_image_thumbnail_url': 'https://images.genius.com/da8a7674e80986c055b6414e91152d86.300x300x1.jpg', 'header_image_url': 'https://images.genius.com/da8a7674e80986c055b6414e91152d86.500x500x1.jpg', 'id': 1536175, 'instrumental': False, 'language': 'en', 'lyrics_owner_id': 1549345, 'lyrics_state': 'complete', 'lyrics_updated_at': 1429895222, 'path': '/Tyler-hilton-insomnia-lyrics', 'pyongs_count': None, 'relationships_index_url': 'https://genius.com/Tyler-hilton-insomnia-sample', 'release_date_components': None, 'release_date_for_display': None, 'release_date_with_abbreviated_month_for_display': None, 'song_art_image_thumbnail_url': 'https://images.genius.com/da8a7674e80986c055b6414e91152d86.300x300x1.jpg', 'song_art_image_url': 'https://images.genius.com/da8a7674e80986c055b6414e91152d86.500x500x1.jpg', 'stats': {'unreviewed_annotations': 0, 'hot': False}, 'title': 'Insomnia', 'title_with_featured': 'Insomnia', 'updated_by_human_at': 1481242043, 'url': 'https://genius.com/Tyler-hilton-insomnia-lyrics', 'featured_artists': [], 'primary_artist': {'_type': 'artist', 'api_path': '/artists/247098', 'header_image_url': 'https://images.genius.com/6755d715568baee47d970ffd11478498.1000x667x1.jpg', 'id': 247098, 'image_url': 'https://images.genius.com/3e0e91e25dabda5fffd5d7a8e3efe91a.1000x1000x1.jpg', 'index_character': 't', 'is_meme_verified': False, 'is_verified': False, 'name': 'Tyler Hilton', 'slug': 'Tyler-hilton', 'url': 'https://genius.com/artists/Tyler-hilton'}, 'artist': 'Tyler Hilton', 'lyrics': \"Insomnia LyricsI miss the girl, and the cigarettes\\nAnd the more I try, the more that I forget\\nTo think of you is a flash to find\\nTo think of you I find my light to pass the time\\n\\nYou want me to be that better one\\nTime goes slowly with you only\\n\\nInsomnia my friend\\nInsomnia my friend\\nI miss the girl and I lost my light\\nSo I'm stumbling through this hollow room for peace of mind\\nI find that I am going over everything I've said to you, for you\\n\\nInsomnia my friend\\n\\nInsomnia my friend\\n\\nYou want me to be that better one\\nTime goes slowly with you only\\n\\nYou want me to be that better one\\nTime goes slowly with you only\\n\\nInsomnia my friend\\nInsomnia my friend\\nInsomnia, insomnia\\n\\nI miss the girl whose not impressed by\\nInsomnia and my cigarette light, my cigarette lightYou might also likeEmbed\"}\n"
     ]
    }
   ],
   "source": []
  },
  {
   "cell_type": "code",
   "execution_count": 57,
   "metadata": {},
   "outputs": [],
   "source": []
  },
  {
   "cell_type": "code",
   "execution_count": null,
   "metadata": {},
   "outputs": [],
   "source": [
    "\"lyrics\": \"\",\n",
    "\"url\": \"https://genius.com/Miles-davis-summertime-lyrics\",\n",
    "\"//coment\": \"This song is an instrumental\""
   ]
  }
 ],
 "metadata": {
  "kernelspec": {
   "display_name": "emotions",
   "language": "python",
   "name": "python3"
  },
  "language_info": {
   "codemirror_mode": {
    "name": "ipython",
    "version": 3
   },
   "file_extension": ".py",
   "mimetype": "text/x-python",
   "name": "python",
   "nbconvert_exporter": "python",
   "pygments_lexer": "ipython3",
   "version": "3.9.16"
  },
  "orig_nbformat": 4
 },
 "nbformat": 4,
 "nbformat_minor": 2
}
