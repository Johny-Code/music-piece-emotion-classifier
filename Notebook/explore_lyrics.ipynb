{
 "cells": [
  {
   "attachments": {},
   "cell_type": "markdown",
   "metadata": {},
   "source": [
    "Cont how many lyrics downloaded. Expected: 2000"
   ]
  },
  {
   "cell_type": "code",
   "execution_count": 63,
   "metadata": {},
   "outputs": [
    {
     "name": "stdout",
     "output_type": "stream",
     "text": [
      "2000\n"
     ]
    }
   ],
   "source": [
    "%%bash\n",
    "ls -1 ../database/lyrics | wc -l"
   ]
  },
  {
   "cell_type": "code",
   "execution_count": 58,
   "metadata": {},
   "outputs": [
    {
     "name": "stdout",
     "output_type": "stream",
     "text": [
      "For ..\\database\\lyrics\\ML1159_Yanni_Nostalgia.json\n",
      "this song is maualy downloaded\n",
      "For ..\\database\\lyrics\\ML1230_Nightmares On Wax_Flip Ya Lid.json\n",
      "this song is maualy downloaded\n",
      "For ..\\database\\lyrics\\ML1336_Kool - The Gang_Summer Madness.json\n",
      "this song is maualy downloaded\n",
      "For ..\\database\\lyrics\\ML1349_Miles Davis_Summertime.json\n",
      "this song is maualy downloaded\n",
      "For ..\\database\\lyrics\\ML136_Jaromír Nohavica_Ještě mi scházíš.json\n",
      "this song is maualy downloaded\n",
      "For ..\\database\\lyrics\\ML1948_Cocteau Twins_Squeeze-Wax.json\n",
      "this song is maualy downloaded\n",
      "For ..\\database\\lyrics\\ML379_Eric Clapton_Reptile.json\n",
      "this song is maualy downloaded\n"
     ]
    }
   ],
   "source": [
    "import os\n",
    "import json\n",
    "\n",
    "input_path = os.path.join('..', 'database', 'lyrics')\n",
    "lyric_files = [os.path.join(input_path, pos_json) for pos_json in os.listdir(input_path) if pos_json.endswith('.json')]\n",
    "\n",
    "for file in lyric_files:\n",
    "    with open(file) as f:\n",
    "        song_info = json.load(f)\n",
    "        try:\n",
    "            lyric = song_info['song']['lyrics']\n",
    "        except:\n",
    "            print(f\"For {file}, lyric is empty\")\n",
    "        \n",
    "        try:\n",
    "            lyric = song_info['song']['url']\n",
    "        except:\n",
    "            print(f\"For {file}, url is empty\")\n",
    "        \n",
    "        try:\n",
    "            type = song_info['song']['artist']\n",
    "        except:\n",
    "            print(f\"For {file}\")\n",
    "            print('this song is maualy downloaded')"
   ]
  },
  {
   "cell_type": "code",
   "execution_count": 62,
   "metadata": {},
   "outputs": [],
   "source": [
    "import os\n",
    "import sys\n",
    "import pathlib\n",
    "\n",
    "current_dir = pathlib.Path().absolute()\n",
    "sys.path.append(os.path.dirname(current_dir))\n",
    "from tools.download_songs import read_config\n",
    "from tools.download_lyrics import authorize_genius, download_lyric\n",
    "\n",
    "\n",
    "def download_single_song(title, artist, file):\n",
    "        \n",
    "        config = read_config(os.path.join('..', 'config', 'genius_secrets.json'))\n",
    "\n",
    "        genius = authorize_genius(config)\n",
    "\n",
    "\n",
    "        downloaded_song, status_code = download_lyric(genius, title, artist)\n",
    "        song_info = downloaded_song.to_dict()\n",
    "\n",
    "        print(song_info)\n",
    "\n",
    "        with open(file) as f:\n",
    "                song = json.load(f)\n",
    "                f.close()\n",
    "\n",
    "        song['song'] = song_info\n",
    "\n",
    "        with open(file, 'w') as f:\n",
    "                f.write(json.dumps(song, indent=4))\n",
    "                f.close()\n",
    "\n",
    "# \"lyrics\": \"\",\n",
    "# \"url\": \"https://genius.com/Miles-davis-summertime-lyrics\",\n",
    "# \"//coment\": \"This song is an instrumental\""
   ]
  },
  {
   "cell_type": "code",
   "execution_count": null,
   "metadata": {},
   "outputs": [],
   "source": [
    "title = 'Insomnia'\n",
    "artist = 'Tyler Hilton'\n",
    "file = '..\\database\\lyrics\\ML606_Tyler Hilton_Insomnia -Revised Album Version-.json'\n",
    "\n",
    "# if needed execute this fun\n",
    "# download_single_song(title, artist, file)"
   ]
  },
  {
   "cell_type": "code",
   "execution_count": null,
   "metadata": {},
   "outputs": [],
   "source": []
  },
  {
   "cell_type": "code",
   "execution_count": null,
   "metadata": {},
   "outputs": [],
   "source": []
  },
  {
   "cell_type": "code",
   "execution_count": 60,
   "metadata": {},
   "outputs": [
    {
     "ename": "SyntaxError",
     "evalue": "illegal target for annotation (2607593218.py, line 1)",
     "output_type": "error",
     "traceback": [
      "\u001b[1;36m  Cell \u001b[1;32mIn[60], line 1\u001b[1;36m\u001b[0m\n\u001b[1;33m    \"lyrics\": \"\",\u001b[0m\n\u001b[1;37m    ^\u001b[0m\n\u001b[1;31mSyntaxError\u001b[0m\u001b[1;31m:\u001b[0m illegal target for annotation\n"
     ]
    }
   ],
   "source": []
  },
  {
   "cell_type": "code",
   "execution_count": null,
   "metadata": {},
   "outputs": [],
   "source": []
  }
 ],
 "metadata": {
  "kernelspec": {
   "display_name": "emotions",
   "language": "python",
   "name": "python3"
  },
  "language_info": {
   "codemirror_mode": {
    "name": "ipython",
    "version": 3
   },
   "file_extension": ".py",
   "mimetype": "text/x-python",
   "name": "python",
   "nbconvert_exporter": "python",
   "pygments_lexer": "ipython3",
   "version": "3.9.16"
  },
  "orig_nbformat": 4
 },
 "nbformat": 4,
 "nbformat_minor": 2
}
